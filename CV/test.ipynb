{
 "cells": [
  {
   "cell_type": "code",
   "execution_count": 83,
   "metadata": {},
   "outputs": [
    {
     "name": "stdout",
     "output_type": "stream",
     "text": [
      "The autoreload extension is already loaded. To reload it, use:\n",
      "  %reload_ext autoreload\n"
     ]
    }
   ],
   "source": [
    "import cv2\n",
    "import numpy as np\n",
    "import matplotlib.pyplot as plt\n",
    "%matplotlib inline\n",
    "%load_ext autoreload\n",
    "%autoreload 2\n",
    "from sklearn.model_selection import ParameterGrid\n"
   ]
  },
  {
   "cell_type": "markdown",
   "metadata": {},
   "source": [
    "## Reading Image"
   ]
  },
  {
   "cell_type": "code",
   "execution_count": 84,
   "metadata": {},
   "outputs": [],
   "source": [
    "image=cv2.imread('../images/2.png')\n",
    "cv2.imshow('image',image)\n",
    "cv2.waitKey(0)\n",
    "cv2.destroyAllWindows()"
   ]
  },
  {
   "cell_type": "code",
   "execution_count": 85,
   "metadata": {},
   "outputs": [],
   "source": [
    "error_image=False"
   ]
  },
  {
   "cell_type": "markdown",
   "metadata": {},
   "source": [
    "## Image Pre-Processing"
   ]
  },
  {
   "cell_type": "code",
   "execution_count": 86,
   "metadata": {},
   "outputs": [],
   "source": [
    "#! threshold the image\n",
    "grey_image=cv2.cvtColor(image,cv2.COLOR_BGR2GRAY)\n",
    "_, thresholded_image = cv2.threshold(grey_image, 180, 255, cv2.THRESH_BINARY)  \n",
    "\n",
    "cv2.imshow('Thresholded Image', thresholded_image)\n",
    "cv2.waitKey(0)\n",
    "cv2.destroyAllWindows()"
   ]
  },
  {
   "cell_type": "code",
   "execution_count": 87,
   "metadata": {},
   "outputs": [
    {
     "name": "stdout",
     "output_type": "stream",
     "text": [
      "No contours found\n"
     ]
    }
   ],
   "source": [
    "#! filter contours\n",
    "image2=image.copy()\n",
    "contours, _ = cv2.findContours(thresholded_image, cv2.RETR_TREE, cv2.CHAIN_APPROX_SIMPLE)\n",
    "if not contours:\n",
    "    error_image=True\n",
    "    print('No contours found')\n",
    "filtered_contours = [contour for contour in contours if cv2.contourArea(contour) > 10000]  # Adjust the area threshold as needed\n",
    "\n",
    "cv2.drawContours(image2, filtered_contours, -1, (0, 255, 0), 3)\n",
    "\n",
    "\n",
    "cv2.imshow('grey_image',image2)\n",
    "cv2.waitKey(0)\n",
    "cv2.destroyAllWindows()"
   ]
  },
  {
   "cell_type": "code",
   "execution_count": 88,
   "metadata": {},
   "outputs": [],
   "source": [
    "#! fix prespective through the most fitting polygon wrapping\n",
    "# the matrix is constant for sticker detection\n",
    "\n",
    "height, width, _ = image.shape\n",
    "corrected_image =np.zeros_like(grey_image)\n",
    "if not error_image:\n",
    "    contours = sorted(contours, key=cv2.contourArea, reverse=True)\n",
    "    largest_contour = contours[0]\n",
    "    epsilon = 0.02 * cv2.arcLength(largest_contour, True)\n",
    "    approx_polygon = cv2.approxPolyDP(largest_contour, epsilon, True)\n",
    "\n",
    "    corners = np.squeeze(approx_polygon)\n",
    "    output_corners = np.array([[0, 0], [0, height], [width,height], [width, 0]], dtype=np.float32)  \n",
    "    matrix = cv2.getPerspectiveTransform(corners.astype(np.float32), output_corners)\n",
    "    corrected_image = cv2.warpPerspective(image, matrix, (width, height))  \n",
    "    \n",
    "\n",
    "#cv2.drawContours(image, [approx_polygon], -1, (0, 255, 0), 3)\n",
    "cv2.imshow('grey_image',corrected_image)\n",
    "cv2.waitKey(0)\n",
    "cv2.destroyAllWindows()"
   ]
  },
  {
   "cell_type": "code",
   "execution_count": 89,
   "metadata": {},
   "outputs": [],
   "source": [
    "#! refix thresholds\n",
    "mask = np.zeros_like(grey_image)\n",
    "if not error_image:\n",
    "    img_fix=corrected_image.copy()\n",
    "    grey_image=cv2.cvtColor(img_fix,cv2.COLOR_BGR2GRAY)\n",
    "    _, thresholded_image = cv2.threshold(grey_image, 180, 255, cv2.THRESH_BINARY)\n",
    "    contours, _ = cv2.findContours(thresholded_image, cv2.RETR_TREE, cv2.CHAIN_APPROX_SIMPLE)\n",
    "    if  contours:\n",
    "        contours = sorted(contours, key=cv2.contourArea, reverse=True)\n",
    "        contours.pop(0)\n",
    "        filtered_contours = [contour for contour in contours if cv2.contourArea(contour) > 10000]\n",
    "        cv2.drawContours(img_fix, filtered_contours, -1, (0, 255, 0), 3)\n",
    "\n",
    "        cv2.fillPoly(mask, filtered_contours, 255)\n",
    "        mask = cv2.bitwise_not(mask)\n",
    "    else: \n",
    "        error_image=True\n",
    "cv2.imshow('Thresholded Image', mask)\n",
    "cv2.waitKey(0)\n",
    "cv2.destroyAllWindows()"
   ]
  },
  {
   "cell_type": "markdown",
   "metadata": {},
   "source": [
    "## Detect Straight Lines"
   ]
  },
  {
   "cell_type": "code",
   "execution_count": 90,
   "metadata": {},
   "outputs": [],
   "source": [
    "#! TODO: Thresholds to be adapted\n",
    "mask1=mask.copy()\n",
    "\n",
    "#! thin the image\n",
    "kernel = np.ones((3,3), np.uint8)\n",
    "dilated = cv2.dilate(mask1, kernel, iterations=5)\n",
    "\n",
    "#! get the horizontal lines\n",
    "adaptive_horizontal_kernel = np.zeros((5, 5), dtype=np.uint8)\n",
    "adaptive_horizontal_kernel[2, :] = 1\n",
    "hit_or_miss_horizontal = cv2.dilate(dilated, adaptive_horizontal_kernel, iterations=17)\n",
    "contours, _ = cv2.findContours(hit_or_miss_horizontal, cv2.RETR_TREE, cv2.CHAIN_APPROX_SIMPLE)\n",
    "if not error_image:\n",
    "    contours = sorted(contours, key=cv2.contourArea, reverse=True)\n",
    "    if contours:\n",
    "       contours.pop(0)\n",
    "    cv2.drawContours(hit_or_miss_horizontal, contours, -1, (0, 255, 0), 3)\n",
    "    h_coordinates = []\n",
    "    for contour in contours:\n",
    "        # Get the bounding box of the contour\n",
    "        x, y, w, h = cv2.boundingRect(contour)\n",
    "        if(w > 100):\n",
    "            h_coordinates.append((x,x+w,y,y+h))\n",
    "\n",
    "    for x1,x2,y,h in h_coordinates:\n",
    "        cv2.rectangle(mask1, (x1, y-30), (x2, y+30), (255, 255, 255), -1)\n",
    "        \n",
    "    #! get the first diagonal lines\n",
    "    diagonal_kernel1 = np.array([[0, 0, 1],\n",
    "                                [0, 1, 0],\n",
    "                                [1, 0, 0]], dtype=np.uint8)\n",
    "    hit_or_miss_diagonal1 = cv2.dilate(dilated, diagonal_kernel1, iterations=17)\n",
    "    contours, _ = cv2.findContours(hit_or_miss_diagonal1, cv2.RETR_TREE, cv2.CHAIN_APPROX_SIMPLE)\n",
    "    contours = sorted(contours, key=cv2.contourArea, reverse=True)\n",
    "    if contours:\n",
    "       contours.pop(0)\n",
    "    #cv2.drawContours(hit_or_miss_diagonal1, contours, -1, (0, 255, 0), 3)\n",
    "    rotated_rectangles = []\n",
    "\n",
    "    for contour in contours:\n",
    "        # Get the rotated rectangle that encloses the contour\n",
    "        rotated_rect = cv2.minAreaRect(contour)\n",
    "        \n",
    "        rotated_rectangles.append(rotated_rect)\n",
    "\n",
    "    for rotated_rect in rotated_rectangles:\n",
    "        # Get the vertices of the rotated rectangle\n",
    "        vertices = cv2.boxPoints(rotated_rect).astype(np.int0)\n",
    "        area = cv2.contourArea(vertices)   \n",
    "        # Draw the rotated rectangle on the original imagen after thresholding on area\n",
    "        if area > 1000:\n",
    "            cv2.drawContours(mask1, [vertices], 0, (255, 255, 255), 25)\n",
    "\n",
    "    #! get the second diagonal lines\n",
    "    diagonal_kernel2 = np.array([[1, 0, 0],\n",
    "                                [0, 1, 0],\n",
    "                                [0, 0, 1]], dtype=np.uint8)\n",
    "    hit_or_miss_diagonal2 = cv2.dilate(dilated, diagonal_kernel2, iterations=17)\n",
    "    contours, _ = cv2.findContours(hit_or_miss_diagonal2, cv2.RETR_TREE, cv2.CHAIN_APPROX_SIMPLE)\n",
    "    contours = sorted(contours, key=cv2.contourArea, reverse=True)\n",
    "    if contours:\n",
    "       contours.pop(0)\n",
    "    #cv2.drawContours(hit_or_miss_diagonal1, contours, -1, (0, 255, 0), 3)\n",
    "    rotated_rectangles = []\n",
    "\n",
    "    for contour in contours:\n",
    "        # Get the rotated rectangle that encloses the contour\n",
    "        rotated_rect = cv2.minAreaRect(contour)\n",
    "        \n",
    "        rotated_rectangles.append(rotated_rect)\n",
    "\n",
    "    for rotated_rect in rotated_rectangles:\n",
    "        # Get the vertices of the rotated rectangle\n",
    "        vertices = cv2.boxPoints(rotated_rect).astype(np.int0)\n",
    "        area = cv2.contourArea(vertices)   \n",
    "        # Draw the rotated rectangle on the original imagen after thresholding on area\n",
    "        if area > 1000:\n",
    "            cv2.drawContours(mask1, [vertices], 0, (255, 255, 255), 25)\n",
    "            \n",
    "    mask1=cv2.bitwise_not(mask1)\n",
    "result = cv2.bitwise_or(mask, mask1)\n",
    "cv2.imshow('Result Image', result)\n",
    "cv2.waitKey(0)\n",
    "cv2.destroyAllWindows()"
   ]
  }
 ],
 "metadata": {
  "kernelspec": {
   "display_name": "Python 3",
   "language": "python",
   "name": "python3"
  },
  "language_info": {
   "codemirror_mode": {
    "name": "ipython",
    "version": 3
   },
   "file_extension": ".py",
   "mimetype": "text/x-python",
   "name": "python",
   "nbconvert_exporter": "python",
   "pygments_lexer": "ipython3",
   "version": "3.11.4"
  }
 },
 "nbformat": 4,
 "nbformat_minor": 2
}
